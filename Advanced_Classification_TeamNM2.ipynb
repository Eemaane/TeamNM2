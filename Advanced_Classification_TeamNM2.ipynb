{
 "cells": [
  {
   "cell_type": "markdown",
   "id": "67cfee4f",
   "metadata": {},
   "source": [
    "# Advancd Classification Predict Student Solution\n",
    "\n",
    "© Explore Data Science Academy\n",
    "\n",
    "---\n",
    "### Honour Code\n",
    "\n",
    "I {**TEAM NM2**}, confirm - by submitting this document - that the solutions in this notebook are a result of my own work and that I abide by the [EDSA honour code](https://drive.google.com/file/d/1QDCjGZJ8-FmJE3bZdIQNwnJyQKPhHZBn/view?usp=sharing).\n",
    "\n",
    "Non-compliance with the honour code constitutes a material breach of contract.\n",
    "\n",
    "### Predict Overview: EDSA - Twitter Sentiment Classification\n",
    "Predict an individual’s belief in climate change based on their tweets!\n",
    "\n",
    "Many companies are built around lessening one’s environmental impact or carbon footprint. They offer products and services that are environmentally friendly and sustainable, in line with their values and ideals. They would like to determine how people perceive climate change and whether or not they believe it is a real threat. This would add to their market research efforts in gauging how their product/service may be received.\n",
    "\n",
    "With this context, EDSA is challenging you during the Classification Sprint with the task of creating a Machine Learning model that is able to classify whether or not a person believes in climate change, based on their novel tweet data.\n",
    "\n",
    "Providing an accurate and robust solution to this task gives companies access to a broad base of consumer sentiment, spanning multiple demographic and geographic categories - thus increasing their insights and informing future marketing strategies."
   ]
  },
  {
   "cell_type": "markdown",
   "id": "967c5e84",
   "metadata": {},
   "source": [
    "Table of Contents\n",
    "\n",
    "1. Importing Packages\n",
    "\n",
    "2. Loading Data\n",
    "\n",
    "3. Exploratory Data Analysis (EDA)\n",
    "\n",
    "4. Data Engineering\n",
    "\n",
    "5. Modeling\n",
    "\n",
    "6. Model Performance\n",
    "\n",
    "7. Model Explanations"
   ]
  },
  {
   "cell_type": "markdown",
   "id": "b0b797a7",
   "metadata": {},
   "source": [
    "### 1. IMPORTING PACKAGES\n",
    "\n",
    "* Packages to be imported for our Predict"
   ]
  },
  {
   "cell_type": "code",
   "execution_count": 2,
   "id": "16d7d16b",
   "metadata": {},
   "outputs": [],
   "source": [
    "# Libraries for data loading and data visulisation\n",
    "import numpy as np\n",
    "import numpy as np\n",
    "import pandas as pd\n",
    "import matplotlib.pyplot as plt\n",
    "import seaborn as sns\n",
    "%matplotlib inline\n",
    "\n",
    "import warnings\n",
    "warnings.filterwarnings(\"ignore\")\n",
    "\n",
    "# Libraries for modelling\n"
   ]
  },
  {
   "cell_type": "code",
   "execution_count": null,
   "id": "98e08080",
   "metadata": {},
   "outputs": [],
   "source": [
    "#  Discuss the libraries that will be used throughout your analysis and modelling.\n"
   ]
  },
  {
   "cell_type": "markdown",
   "id": "75ca53bc",
   "metadata": {},
   "source": [
    "### 2.LOADING OF THE DATA"
   ]
  },
  {
   "cell_type": "code",
   "execution_count": null,
   "id": "92453a8f",
   "metadata": {},
   "outputs": [],
   "source": [
    "pd.read_csv()"
   ]
  },
  {
   "cell_type": "code",
   "execution_count": null,
   "id": "e8dff132",
   "metadata": {},
   "outputs": [],
   "source": [
    "# View data"
   ]
  },
  {
   "cell_type": "markdown",
   "id": "4c8e3fd2",
   "metadata": {},
   "source": [
    "### 3. EXPLORATORY DATA ANALYSIS (EDA)"
   ]
  },
  {
   "cell_type": "code",
   "execution_count": null,
   "id": "1730ebc6",
   "metadata": {},
   "outputs": [],
   "source": [
    "# Look at stats\n",
    "# df.info, df.describe, df.isnull, etc"
   ]
  },
  {
   "cell_type": "code",
   "execution_count": null,
   "id": "fd5051ef",
   "metadata": {},
   "outputs": [],
   "source": []
  },
  {
   "cell_type": "code",
   "execution_count": null,
   "id": "8f4f3bee",
   "metadata": {},
   "outputs": [],
   "source": [
    "# Explain What we observed from stats"
   ]
  },
  {
   "cell_type": "markdown",
   "id": "2be3568b",
   "metadata": {},
   "source": [
    "### 4. DATA / FEATURE ENGINEERING"
   ]
  },
  {
   "cell_type": "code",
   "execution_count": null,
   "id": "c87fed84",
   "metadata": {},
   "outputs": [],
   "source": [
    "# Engineer our features\n",
    "#Remove stop words, lemmatisation, Feature Extraction etc"
   ]
  },
  {
   "cell_type": "code",
   "execution_count": null,
   "id": "c7f3d46e",
   "metadata": {},
   "outputs": [],
   "source": []
  },
  {
   "cell_type": "code",
   "execution_count": 4,
   "id": "3abb9fbb",
   "metadata": {},
   "outputs": [],
   "source": [
    "# Explain what features were engineered and reasons"
   ]
  },
  {
   "cell_type": "markdown",
   "id": "cd629e76",
   "metadata": {},
   "source": [
    "### 5. MODELLING"
   ]
  },
  {
   "cell_type": "code",
   "execution_count": null,
   "id": "c38324b9",
   "metadata": {},
   "outputs": [],
   "source": [
    "# Create some Classification models to Predict an individual’s belief in climate change based on their tweets!"
   ]
  },
  {
   "cell_type": "code",
   "execution_count": null,
   "id": "bf1bdc6f",
   "metadata": {},
   "outputs": [],
   "source": []
  },
  {
   "cell_type": "markdown",
   "id": "5cc69fe8",
   "metadata": {},
   "source": [
    "### 6. MODEL PERFORMANCE"
   ]
  },
  {
   "cell_type": "code",
   "execution_count": null,
   "id": "868de69d",
   "metadata": {},
   "outputs": [],
   "source": [
    "# Compare Model performance and comment on what the best model is and why"
   ]
  }
 ],
 "metadata": {
  "kernelspec": {
   "display_name": "Python 3 (ipykernel)",
   "language": "python",
   "name": "python3"
  },
  "language_info": {
   "codemirror_mode": {
    "name": "ipython",
    "version": 3
   },
   "file_extension": ".py",
   "mimetype": "text/x-python",
   "name": "python",
   "nbconvert_exporter": "python",
   "pygments_lexer": "ipython3",
   "version": "3.9.12"
  }
 },
 "nbformat": 4,
 "nbformat_minor": 5
}
